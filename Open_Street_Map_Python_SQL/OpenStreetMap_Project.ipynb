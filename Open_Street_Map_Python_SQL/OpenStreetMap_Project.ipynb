{
 "cells": [
  {
   "cell_type": "markdown",
   "metadata": {},
   "source": [
    "# OpenStreetMap Data\n",
    "\n",
    "Map Area\n",
    "\n",
    " - San Francisco, CA, United States\n",
    "\n",
    " - https://mapzen.com/data/metro-extracts/metro/san-francisco_california/\n",
    "\n",
    "\n",
    "I chose the map of San Francisco for this project because I have never been in San Francisco and I don´t even live in United States. So, my purpose is to evaluate how much of information I can learn from this data, how many inconsistencies I can find without knowing the place."
   ]
  },
  {
   "cell_type": "markdown",
   "metadata": {},
   "source": [
    "## Problems Encountered in the Map"
   ]
  },
  {
   "cell_type": "markdown",
   "metadata": {
    "collapsed": true
   },
   "source": [
    "Although  the map area is of San Francisco, the file comprehend a larger area than the city of San Francisco, including some\n",
    "information of San Mateo, Berkeley, Oakland and so on. The main problems I found in the map are:\n",
    "    \n",
    " - **Problematic street names: **Instead of Avenue, Street, Road, the street name is a number or an anormal character, like #105, #155, 122°29'07.1;\n",
    " - **Problematic city names: **Instead of San Francisco, or other city, the city name is a number, like 11720, 155, 157;   \n",
    " - **Zip Code: **probably wrong zip codes, like 515, 1087, 2952, since the most common zip code contains 5 digits and it starts with 94;  \n",
    " - **State name: **Some tags have the state name as a number, like 1463-1465, instead of CA;    \n",
    " - **\"node\" tags: ** Some \"node\" tags do not have user and uid field; \n",
    "\n",
    "The problems I was sure that were a typo, I corrected before saving the information in the csv file, inside the shape_element function. So, I wrote some fuctions (update_zip_code, update_name, update_city, update_state and update_country) in order to correct the fields.\n",
    "The \"nodes\" tags which doesn´t have user, uid or other field, I did not save in the csv file. The problematic zip codes with less than 5 digits were excluded. However, if the zip code had more than 5 digits, like 94045-0809, only the first 5 digits were kept. "
   ]
  },
  {
   "cell_type": "markdown",
   "metadata": {},
   "source": [
    "## Database and Tables\n",
    "\n",
    "Once I saved the information into a csv file, I created the Database and five Tables from them."
   ]
  },
  {
   "cell_type": "markdown",
   "metadata": {},
   "source": [
    "## Data Overview and Additional Ideas"
   ]
  },
  {
   "cell_type": "markdown",
   "metadata": {},
   "source": [
    "File Sizes\n",
    "\n",
    "    San-Francisco_California.osm .......961 MB\n",
    "    project3.sqlite ....................528 MB\n",
    "    nodes.csv ..........................380 MB\n",
    "    nodes_tags.csv .......................9 MB\n",
    "    ways.csv ............................31 MB\n",
    "    ways_tags.csv .......................50 MB\n",
    "    ways_nodes.csv .....................133 MB"
   ]
  },
  {
   "cell_type": "markdown",
   "metadata": {},
   "source": [
    "### Number of Nodes and Ways\n",
    "\n",
    "\n"
   ]
  },
  {
   "cell_type": "markdown",
   "metadata": {},
   "source": [
    "Query = \"SELECT COUNT(*) FROM nodes;\"   \n",
    "Query_1 = \"SELECT COUNT(*) FROM ways;\"\n"
   ]
  },
  {
   "cell_type": "markdown",
   "metadata": {},
   "source": [
    "- Number of nodes: 4581032   \n",
    "- Number of ways:  532313\n"
   ]
  },
  {
   "cell_type": "markdown",
   "metadata": {},
   "source": [
    "### Number of Unique Users"
   ]
  },
  {
   "cell_type": "markdown",
   "metadata": {},
   "source": [
    "Query = \"SELECT COUNT(DISTINCT(all_nodes.uid)) FROM (SELECT uid FROM nodes UNION ALL SELECT uid FROM ways) as all_nodes;\""
   ]
  },
  {
   "cell_type": "markdown",
   "metadata": {},
   "source": [
    "- Number of unique users:  2566"
   ]
  },
  {
   "cell_type": "markdown",
   "metadata": {},
   "source": [
    "###  10 Users that Most Contributed"
   ]
  },
  {
   "cell_type": "markdown",
   "metadata": {},
   "source": [
    "Query = \"SELECT all_nodes.user, COUNT(*) as count FROM (SELECT user FROM nodes UNION ALL SELECT user FROM ways) as all_nodes GROUP BY all_nodes.user ORDER BY count DESC limit 10;\"\n"
   ]
  },
  {
   "cell_type": "markdown",
   "metadata": {},
   "source": [
    "    ediyes       918915  \n",
    "    Luis36995    710132\n",
    "    Rub21        395225   \n",
    "    RichRico     224394   \n",
    "    calfarome    185130   \n",
    "    oldtopos     167544   \n",
    "    KindredCoda  151716   \n",
    "    karitotp     134937   \n",
    "    samely       125525   \n",
    "    abel801      108315"
   ]
  },
  {
   "cell_type": "markdown",
   "metadata": {},
   "source": [
    "### 10 Most Common Cities"
   ]
  },
  {
   "cell_type": "markdown",
   "metadata": {},
   "source": [
    "Query = \"SELECT all_tags.value, COUNT(*) as count FROM (SELECT * FROM nodes_tags UNION ALL SELECT * FROM ways_tags) as all_tags WHERE all_tags.key=='city' GROUP BY all_tags.value ORDER BY count DESC limit 10;\"\n"
   ]
  },
  {
   "cell_type": "markdown",
   "metadata": {},
   "source": [
    "    Redwood City   23527\n",
    "    San Francisco  17208\n",
    "    Berkeley        5626\n",
    "    Piedmont        3812\n",
    "    Palo Alto       1642\n",
    "    Oakland         1378\n",
    "    Richmond        1354\n",
    "    Union City       263\n",
    "    Albany           223\n",
    "    Burlingame       199"
   ]
  },
  {
   "cell_type": "markdown",
   "metadata": {},
   "source": [
    "### 10 Most Common Zipcodes"
   ]
  },
  {
   "cell_type": "markdown",
   "metadata": {},
   "source": [
    "QUERY = \"SELECT all_tags.value, COUNT(*) as count FROM (SELECT * FROM nodes_tags UNION ALL SELECT * FROM ways_tags) as all_tags WHERE all_tags.key='postcode'GROUP BY all_tags.value ORDER BY count DESC limit 10;\"\n"
   ]
  },
  {
   "cell_type": "markdown",
   "metadata": {},
   "source": [
    "    94122 5106\n",
    "    94611 2990\n",
    "    94116 2202\n",
    "    94610 1357\n",
    "    94117 1219\n",
    "    94133 1096\n",
    "    94103 797\n",
    "    94127 705\n",
    "    94109 452\n",
    "    94063 383"
   ]
  },
  {
   "cell_type": "markdown",
   "metadata": {},
   "source": [
    "### 10 Most Common Streets"
   ]
  },
  {
   "cell_type": "markdown",
   "metadata": {},
   "source": [
    "QUERY = \"SELECT all_tags.value, COUNT(*) as count FROM (SELECT * FROM nodes_tags UNION ALL SELECT * FROM ways_tags) as all_tags WHERE all_tags.key='street'GROUP BY all_tags.value ORDER BY count DESC limit 10;\"\n"
   ]
  },
  {
   "cell_type": "markdown",
   "metadata": {},
   "source": [
    "    Irving Street    731\n",
    "    Page Street      548\n",
    "    9th Avenue       544\n",
    "    Broadway         462\n",
    "    10th Avenue      455\n",
    "    14th Avenue      432\n",
    "    El Camino Real   431\n",
    "    12th Avenue      394\n",
    "    8th Avenue       390\n",
    "    Funston Avenue   383"
   ]
  },
  {
   "cell_type": "markdown",
   "metadata": {},
   "source": [
    "### Top 10 types of Amenities"
   ]
  },
  {
   "cell_type": "markdown",
   "metadata": {},
   "source": [
    "QUERY = \"SELECT all_tags.value, COUNT(*) as count FROM (SELECT * FROM nodes_tags UNION ALL SELECT * FROM ways_tags) as all_tags WHERE all_tags.key='amenity'GROUP BY all_tags.value ORDER BY count DESC limit 10;\"\n"
   ]
  },
  {
   "cell_type": "markdown",
   "metadata": {},
   "source": [
    "    parking           4506\n",
    "    restaurant        3124\n",
    "    school            1312\n",
    "    bench             1155\n",
    "    place_of_worship  1154\n",
    "    cafe               988\n",
    "    fast_food          682\n",
    "    post_box           677\n",
    "    bicycle_parking    560\n",
    "    toilets            492"
   ]
  },
  {
   "cell_type": "markdown",
   "metadata": {},
   "source": [
    "### Popular Cuisines"
   ]
  },
  {
   "cell_type": "markdown",
   "metadata": {},
   "source": [
    "QUERY = \"SELECT all_tags.value, COUNT(*) as count FROM (SELECT * FROM nodes_tags UNION ALL SELECT * FROM ways_tags) as all_tags WHERE all_tags.key='cuisine'GROUP BY all_tags.value ORDER BY count DESC limit 10;\"\n"
   ]
  },
  {
   "cell_type": "markdown",
   "metadata": {},
   "source": [
    "    mexican       279\n",
    "    coffee_shop   261\n",
    "    pizza         213\n",
    "    burger        195\n",
    "    chinese       189\n",
    "    japanese      150\n",
    "    italian       143\n",
    "    sandwich      141\n",
    "    american      133\n",
    "    thai          113"
   ]
  },
  {
   "cell_type": "markdown",
   "metadata": {},
   "source": [
    "### Important Sources of Information"
   ]
  },
  {
   "cell_type": "markdown",
   "metadata": {},
   "source": [
    "QUERY = \"SELECT all_tags.value, COUNT(*) as count FROM (SELECT * FROM nodes_tags UNION ALL SELECT * FROM ways_tags) as all_tags WHERE all_tags.key='source'GROUP BY all_tags.value ORDER BY count DESC limit 10;\"\n"
   ]
  },
  {
   "cell_type": "markdown",
   "metadata": {},
   "source": [
    "    City of Redwood City, CA 1013             23305\n",
    "    tiger_import_dch_v0.6_20070809            17050\n",
    "    Bing                                      11126\n",
    "    bing                                       7504\n",
    "    EarthScope (http://www.earthscope.org), International Solar Information Solutions (http://www.isi-solutions.org), OpenTopography (http://www.opentopography.org) 4526\n",
    "    City of Palo Alto CA 0713                  2310\n",
    "    data.sfgov.org                             1870\n",
    "    photograph                                 1693\n",
    "    survey                                     1475\n",
    "    NHD                                        1430"
   ]
  },
  {
   "cell_type": "markdown",
   "metadata": {},
   "source": [
    "### Other Ideas about datasets"
   ]
  },
  {
   "cell_type": "markdown",
   "metadata": {},
   "source": [
    "Since the data is updated or even constructed by contributors, it is difficult to insure the data quality. Some typos or errors are easier to fix, but it is not the case for all the fields. So, a guidance about how to update information could improve the quality of the information. For example, if the field is a city name, you should not put a number on it. However, some difficulties could occur when implementing this, for example:\n",
    " - who is responsible for defining what is a valid pattern;\n",
    " - If this valid pattern is appropriate for all places;\n",
    " - how we assure this pattern is been followed;\n",
    " - If the data comes from a GPS, different brands do not have the same format of data;\n"
   ]
  },
  {
   "cell_type": "markdown",
   "metadata": {},
   "source": [
    "## Conclusion"
   ]
  },
  {
   "cell_type": "markdown",
   "metadata": {},
   "source": [
    "My challenge in this exercise was to discover how much of information I could learn from the data without knowing the place. My discoveries are:\n",
    "\n",
    " - In the auditing process I found problematic street, cities, state and country names, as well as zip codes and phone numbers. Some of these were typos and I could corrected them, but others were not. I also found some tags who did not have user and uid fields. \n",
    " - The map area include San Francisco and other cities like Palo Alto, San Carlos, Berkeley, and so on. \n",
    " - There are many different users, 2566, and the user 'ediyes' was the biggest contributor. The two most common amenities are parkings and restaurants, and the most popular cuisine is Mexican. \n",
    " - The three most important source of information are City of Redwood, Tiger GPS and Bing."
   ]
  }
 ],
 "metadata": {
  "anaconda-cloud": {},
  "kernelspec": {
   "display_name": "Python [Root]",
   "language": "python",
   "name": "Python [Root]"
  },
  "language_info": {
   "codemirror_mode": {
    "name": "ipython",
    "version": 2
   },
   "file_extension": ".py",
   "mimetype": "text/x-python",
   "name": "python",
   "nbconvert_exporter": "python",
   "pygments_lexer": "ipython2",
   "version": "2.7.12"
  }
 },
 "nbformat": 4,
 "nbformat_minor": 0
}
